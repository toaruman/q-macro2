{
  "nbformat": 4,
  "nbformat_minor": 0,
  "metadata": {
    "colab": {
      "provenance": []
    },
    "kernelspec": {
      "name": "python3",
      "display_name": "Python 3"
    },
    "language_info": {
      "name": "python"
    }
  },
  "cells": [
    {
      "cell_type": "code",
      "source": [
        "import numpy as np # 数値計算のためのツール\n",
        "from scipy.stats import norm # scipyの中のnormだけを使う、累積分布関数を計算するためにcdfを使う\n",
        "def tauchen(n, rho, sigma):\n",
        "    m = 1 / np.sqrt(1 - rho**2) # stdd = m*σ\n",
        "    state_space = np.linspace(mu - m*sigma, mu + m*sigma, n) # グリットの作成\n",
        "    d = (state_space[n-1] - state_state[0]) / (n-1) # グリットの幅　# Pythonは0からスタート\n",
        "\n",
        "    transition_matrix = np.zeros((n, n)) # 空のn行n列の行列を作成\n",
        "\n",
        "    transition_matrix[0, 0] = norm.cdf((state_space[0] - rho*state_space[0] + d/2)/sigma) # indexは0スタート\n",
        "    for j in range(n):\n",
        "        trasition_matrix[0, j] = norm.cdf\n"
      ],
      "metadata": {
        "id": "Yj47O_qMLGf8"
      },
      "execution_count": 13,
      "outputs": []
    },
    {
      "cell_type": "code",
      "execution_count": 6,
      "metadata": {
        "id": "Jba1fVeeZJ65"
      },
      "outputs": [],
      "source": [
        "# setting prices\n",
        "r = 0.04 # interest rate\n",
        "w = 1 # wage\n",
        "\n"
      ]
    },
    {
      "cell_type": "code",
      "source": [
        "r"
      ],
      "metadata": {
        "id": "bkK6rFMAJ6mJ",
        "outputId": "6219374f-3de7-480d-ade1-d234a5db0afb",
        "colab": {
          "base_uri": "https://localhost:8080/"
        }
      },
      "execution_count": 3,
      "outputs": [
        {
          "output_type": "execute_result",
          "data": {
            "text/plain": [
              "0.04"
            ]
          },
          "metadata": {},
          "execution_count": 3
        }
      ]
    },
    {
      "cell_type": "code",
      "source": [
        "w"
      ],
      "metadata": {
        "id": "QHfJ6O1pKKGg",
        "outputId": "7eadee9c-ee28-453a-8ff0-89ea1e3c91a3",
        "colab": {
          "base_uri": "https://localhost:8080/"
        }
      },
      "execution_count": 7,
      "outputs": [
        {
          "output_type": "execute_result",
          "data": {
            "text/plain": [
              "1"
            ]
          },
          "metadata": {},
          "execution_count": 7
        }
      ]
    },
    {
      "cell_type": "code",
      "source": [
        "tauchen(2, 0.9, 4)"
      ],
      "metadata": {
        "id": "pLaYt3KvNyZD"
      },
      "execution_count": 11,
      "outputs": []
    }
  ]
}